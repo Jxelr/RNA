{
  "nbformat": 4,
  "nbformat_minor": 0,
  "metadata": {
    "colab": {
      "provenance": [],
      "authorship_tag": "ABX9TyPzEKlwQoSRnmufcRFAPeF/",
      "include_colab_link": true
    },
    "kernelspec": {
      "name": "python3",
      "display_name": "Python 3"
    },
    "language_info": {
      "name": "python"
    }
  },
  "cells": [
    {
      "cell_type": "markdown",
      "metadata": {
        "id": "view-in-github",
        "colab_type": "text"
      },
      "source": [
        "<a href=\"https://colab.research.google.com/github/Jxelr/RNA/blob/main/Series_de_Tiempo_2.ipynb\" target=\"_parent\"><img src=\"https://colab.research.google.com/assets/colab-badge.svg\" alt=\"Open In Colab\"/></a>"
      ]
    },
    {
      "cell_type": "code",
      "execution_count": 9,
      "metadata": {
        "id": "QICQ3c4f9mOS"
      },
      "outputs": [],
      "source": [
        "import numpy as np\n",
        "from tensorflow import keras\n",
        "from tensorflow.keras import layers\n",
        "import os\n",
        "from keras.models import Sequential\n",
        "from keras.layers import Dense, Dropout, LSTM\n",
        "from keras import utils"
      ]
    },
    {
      "cell_type": "code",
      "source": [
        "\"\"\"Descarga y descomprime los datos\"\"\"\n",
        "!wget https://s3.amazonaws.com/keras-datasets/jena_climate_2009_2016.csv.zip\n",
        "!unzip jena_climate_2009_2016.csv.zip"
      ],
      "metadata": {
        "colab": {
          "base_uri": "https://localhost:8080/"
        },
        "id": "mKXVMdQB-CIA",
        "outputId": "3a32d7f8-f53a-4ab3-ab46-ad28e99f9f89"
      },
      "execution_count": 2,
      "outputs": [
        {
          "output_type": "stream",
          "name": "stdout",
          "text": [
            "--2023-10-27 07:12:21--  https://s3.amazonaws.com/keras-datasets/jena_climate_2009_2016.csv.zip\n",
            "Resolving s3.amazonaws.com (s3.amazonaws.com)... 16.182.101.16, 54.231.130.24, 52.217.128.208, ...\n",
            "Connecting to s3.amazonaws.com (s3.amazonaws.com)|16.182.101.16|:443... connected.\n",
            "HTTP request sent, awaiting response... 200 OK\n",
            "Length: 13565642 (13M) [application/zip]\n",
            "Saving to: ‘jena_climate_2009_2016.csv.zip’\n",
            "\n",
            "jena_climate_2009_2 100%[===================>]  12.94M  47.2MB/s    in 0.3s    \n",
            "\n",
            "2023-10-27 07:12:21 (47.2 MB/s) - ‘jena_climate_2009_2016.csv.zip’ saved [13565642/13565642]\n",
            "\n",
            "Archive:  jena_climate_2009_2016.csv.zip\n",
            "  inflating: jena_climate_2009_2016.csv  \n",
            "  inflating: __MACOSX/._jena_climate_2009_2016.csv  \n"
          ]
        }
      ]
    },
    {
      "cell_type": "code",
      "source": [
        "\"\"\"Imprimimos los encabezados y separamos los datos del encabezado\"\"\"\n",
        "\n",
        "fname = os.path.join(\"jena_climate_2009_2016.csv\")\n",
        "with open(fname) as f:\n",
        "   data = f.read()\n",
        "\n",
        "lines = data.split(\"\\n\")\n",
        "header = lines[0].split(\",\")\n",
        "lines = lines[1:]\n",
        "print(header)\n",
        "print(len(lines))"
      ],
      "metadata": {
        "colab": {
          "base_uri": "https://localhost:8080/"
        },
        "id": "26jfss0I-C4l",
        "outputId": "8ace607c-da89-456e-a18c-38bc27471ab6"
      },
      "execution_count": 5,
      "outputs": [
        {
          "output_type": "stream",
          "name": "stdout",
          "text": [
            "['\"Date Time\"', '\"p (mbar)\"', '\"T (degC)\"', '\"Tpot (K)\"', '\"Tdew (degC)\"', '\"rh (%)\"', '\"VPmax (mbar)\"', '\"VPact (mbar)\"', '\"VPdef (mbar)\"', '\"sh (g/kg)\"', '\"H2OC (mmol/mol)\"', '\"rho (g/m**3)\"', '\"wv (m/s)\"', '\"max. wv (m/s)\"', '\"wd (deg)\"']\n",
            "420451\n"
          ]
        }
      ]
    },
    {
      "cell_type": "code",
      "source": [
        "\"\"\"Separamos Datos\"\"\"\n",
        "temperature = np.zeros((len(lines),))\n",
        "raw_data = np.zeros((len(lines), len(header) - 1))\n",
        "for i, line in enumerate(lines):\n",
        "  values = [float(x) for x in line.split(\",\")[1:]]\n",
        "  temperature[i] = values[1]\n",
        "  raw_data[i, :] = values[:]"
      ],
      "metadata": {
        "id": "8jEiti65-bMM"
      },
      "execution_count": 6,
      "outputs": []
    },
    {
      "cell_type": "code",
      "source": [
        "\"\"\"Definimos la longitud de la secuencia y el paso de la prediccción\"\"\"\n",
        "sequence_length = 120\n",
        "prediction_step = 10 #10 pasos al futuro"
      ],
      "metadata": {
        "id": "LvNg-uRW-ehs"
      },
      "execution_count": 10,
      "outputs": []
    },
    {
      "cell_type": "code",
      "source": [
        "# Dividimos los datos en secuencias de entrada y etiquetas de salida\n",
        "\n",
        "input_sequences = []\n",
        "output_labels = []\n",
        "\n",
        "for i in range(len(temperature) - sequence_length - prediction_step):\n",
        "  input_sequences.append(temperature[1:1 + sequence_length])\n",
        "  output_labels.append(temperature[i + sequence_length + prediction_step])\n",
        "\n",
        "\n",
        "input_sequences = np.array(input_sequences)\n",
        "output_labels = np.array(output_labels)"
      ],
      "metadata": {
        "id": "zVQxY6Me_pKQ"
      },
      "execution_count": 11,
      "outputs": []
    },
    {
      "cell_type": "code",
      "source": [
        "#Dividimos los datos en coinjuntos de entrenamiento y prueba (train. test)\n",
        "\n",
        "train_size = int(0.7 * len(input_sequences)) #70% de los datos van al entrenamiento\n",
        "train_input = input_sequences[:train_size]\n",
        "train_output = output_labels[:train_size]\n",
        "test_input = input_sequences[train_size:]\n",
        "test_output = output_labels[train_size:]"
      ],
      "metadata": {
        "id": "4vdYfyXaAmt0"
      },
      "execution_count": 12,
      "outputs": []
    },
    {
      "cell_type": "code",
      "source": [
        "#Construimos un modelo LSTM\n",
        "\n",
        "model = keras.Sequential()\n",
        "model.add(layers.LSTM(50, input_shape=(sequence_length, 1)))\n",
        "model.add(layers.Dense(1))"
      ],
      "metadata": {
        "id": "UCaVPjGTBtfA"
      },
      "execution_count": 14,
      "outputs": []
    },
    {
      "cell_type": "code",
      "source": [
        "\n",
        "# Compila el modelo\n",
        "model.compile(optimizer='adam', loss='mse')\n",
        "\n",
        "#Entrena el Modelo\n",
        "model.fit(train_input, train_output, epochs=10, batch_size=20, validation_data=(test_input, test_output))\n"
      ],
      "metadata": {
        "colab": {
          "base_uri": "https://localhost:8080/"
        },
        "id": "tW1sIx5KCHV-",
        "outputId": "20a8852f-6f98-4031-acfd-3e4646e78560"
      },
      "execution_count": 15,
      "outputs": [
        {
          "output_type": "stream",
          "name": "stdout",
          "text": [
            "Epoch 1/10\n",
            "14712/14712 [==============================] - 493s 33ms/step - loss: 75.0016 - val_loss: 61.9692\n",
            "Epoch 2/10\n",
            "14712/14712 [==============================] - 450s 31ms/step - loss: 74.8615 - val_loss: 62.5965\n",
            "Epoch 3/10\n",
            "14712/14712 [==============================] - 449s 30ms/step - loss: 74.8579 - val_loss: 62.8424\n",
            "Epoch 4/10\n",
            "14712/14712 [==============================] - 447s 30ms/step - loss: 74.8574 - val_loss: 62.1907\n",
            "Epoch 5/10\n",
            "14712/14712 [==============================] - 448s 30ms/step - loss: 74.8615 - val_loss: 62.7633\n",
            "Epoch 6/10\n",
            "14712/14712 [==============================] - 448s 30ms/step - loss: 74.8552 - val_loss: 61.7314\n",
            "Epoch 7/10\n",
            "14712/14712 [==============================] - 447s 30ms/step - loss: 74.8576 - val_loss: 62.7057\n",
            "Epoch 8/10\n",
            "14712/14712 [==============================] - 448s 30ms/step - loss: 74.8551 - val_loss: 62.3780\n",
            "Epoch 9/10\n",
            "14712/14712 [==============================] - 451s 31ms/step - loss: 74.8562 - val_loss: 62.2072\n",
            "Epoch 10/10\n",
            "14712/14712 [==============================] - 448s 30ms/step - loss: 74.8584 - val_loss: 62.1069\n"
          ]
        },
        {
          "output_type": "execute_result",
          "data": {
            "text/plain": [
              "<keras.src.callbacks.History at 0x7eb0b71c4e80>"
            ]
          },
          "metadata": {},
          "execution_count": 15
        }
      ]
    },
    {
      "cell_type": "code",
      "source": [
        "#Evalúa el modelo\n",
        "loss = model.evaluate(test_input, test_output)\n",
        "print(f'pérdida en el conjunto de prueba: {loss}')"
      ],
      "metadata": {
        "colab": {
          "base_uri": "https://localhost:8080/"
        },
        "id": "jk1xFuDBClsA",
        "outputId": "e1f81feb-182d-4d1b-da32-fc8519ba95c8"
      },
      "execution_count": 16,
      "outputs": [
        {
          "output_type": "stream",
          "name": "stdout",
          "text": [
            "3941/3941 [==============================] - 33s 8ms/step - loss: 62.1068\n",
            "pérdida en el conjunto de prueba: 62.1068000793457\n"
          ]
        }
      ]
    },
    {
      "cell_type": "code",
      "source": [
        "#Se hace una predicción de temperatura 10 pasos en el futuro\n",
        "input_sequence = temperature[-sequence_length:]\n",
        "input_sequence = np.reshape(input_sequence, (1, sequence_length, 1))\n",
        "predicted_temperature = model.predict(input_sequence)\n",
        "print(f'Temperatura predicha 10 pasos en el futuro: {predicted_temperature[0][0]}')"
      ],
      "metadata": {
        "colab": {
          "base_uri": "https://localhost:8080/"
        },
        "id": "bl-BW9dhC2z_",
        "outputId": "eee956da-628b-42c1-9ca8-d3b53845208f"
      },
      "execution_count": 17,
      "outputs": [
        {
          "output_type": "stream",
          "name": "stdout",
          "text": [
            "1/1 [==============================] - 0s 307ms/step\n",
            "Temperatura predicha 10 pasos en el futuro: 9.124300956726074\n"
          ]
        }
      ]
    }
  ]
}